{
 "cells": [
  {
   "cell_type": "code",
   "execution_count": null,
   "metadata": {},
   "outputs": [],
   "source": [
    "import numpy as np"
   ]
  },
  {
   "cell_type": "code",
   "execution_count": null,
   "metadata": {},
   "outputs": [],
   "source": [
    "# gera uma matriz de duas dimensões e três atributos\n",
    "data = np.random.randn(2, 3)\n",
    "print(data)\n"
   ]
  },
  {
   "cell_type": "code",
   "execution_count": null,
   "metadata": {},
   "outputs": [],
   "source": [
    "print(\"\\nMultiplica todo o conteúdo por 14\")\n",
    "print(data * 14)\n"
   ]
  },
  {
   "cell_type": "code",
   "execution_count": null,
   "metadata": {},
   "outputs": [],
   "source": [
    "print(\"\\nRealiza a soma elemento a elemento da matriz\")\n",
    "print(data + data)"
   ]
  },
  {
   "cell_type": "code",
   "execution_count": null,
   "metadata": {},
   "outputs": [],
   "source": [
    "print(data.shape) #Exibe a forma do ndarray. Nº de linhas e Nº de colunas, respectivamente\n",
    "print(data.dtype) #Exibe o tipo dos dados armazenados\n",
    "print(data.ndim) #Exibe o número de dimensões da estrutura"
   ]
  },
  {
   "cell_type": "code",
   "execution_count": null,
   "metadata": {},
   "outputs": [],
   "source": [
    "lista1 = [6, 7.5, 8, 0, 1] #Uma lista do Python\n",
    "array1 = np.array(lista1) #O método array da biblioteca Numpy é responsável pela criação\n",
    "print(array1)\n",
    "print(type(array1))\n",
    "print(array1.ndim)\n",
    "print(array1.shape)\n",
    "print(array1.dtype)"
   ]
  },
  {
   "cell_type": "code",
   "execution_count": null,
   "metadata": {},
   "outputs": [],
   "source": [
    "lista2 = [[1, 2, 3, 4], [5, 6, 7, 8]] #Lista Python com duas dimensões\n",
    "array2 = np.array(lista2, dtype=np.float64)\n",
    "print(array2)\n",
    "print(type(array2))\n",
    "print(array2.ndim)\n",
    "print(array2.shape)\n",
    "print(array2.dtype)"
   ]
  },
  {
   "cell_type": "code",
   "execution_count": null,
   "metadata": {},
   "outputs": [],
   "source": [
    "# mudança de formato\n",
    "g = np.arange(24)\n",
    "print(g)"
   ]
  },
  {
   "cell_type": "code",
   "execution_count": null,
   "metadata": {},
   "outputs": [],
   "source": [
    "g.reshape(4,6)"
   ]
  },
  {
   "cell_type": "code",
   "execution_count": null,
   "metadata": {},
   "outputs": [],
   "source": [
    "print(g)"
   ]
  },
  {
   "cell_type": "code",
   "execution_count": null,
   "metadata": {},
   "outputs": [],
   "source": [
    "g.reshape(2, 3, 4)"
   ]
  },
  {
   "cell_type": "code",
   "execution_count": null,
   "metadata": {},
   "outputs": [],
   "source": [
    "print(g)"
   ]
  },
  {
   "cell_type": "code",
   "execution_count": null,
   "metadata": {},
   "outputs": [],
   "source": [
    "g.ravel()"
   ]
  },
  {
   "cell_type": "markdown",
   "metadata": {},
   "source": [
    "# Operações Matemáticas"
   ]
  },
  {
   "cell_type": "code",
   "execution_count": null,
   "metadata": {},
   "outputs": [],
   "source": [
    "array3 = np.array([[1., 2., 3.,], [4., 5., 6.]])\n",
    "print(array3)\n",
    "print()\n",
    "print(array3 * array3)\n",
    "print()\n",
    "print(array3 - array3)\n",
    "print()\n",
    "print(1 / array3)\n",
    "print()\n",
    "print(array3 ** 0.5) #Uma forma de aplicar a raiz quadrada"
   ]
  },
  {
   "cell_type": "code",
   "execution_count": null,
   "metadata": {},
   "outputs": [],
   "source": [
    "# comparação entre elementos\n",
    "array4 = np.array([[0., 4., 1.], [7., 2., 12.]])\n",
    "print(array4 > array3)"
   ]
  },
  {
   "cell_type": "code",
   "execution_count": null,
   "metadata": {},
   "outputs": [],
   "source": [
    "print(array4[array4 > array3]) #Os elementos com resultado True são exibidos"
   ]
  },
  {
   "cell_type": "markdown",
   "metadata": {},
   "source": [
    "# Indexação e Fatiamento"
   ]
  },
  {
   "cell_type": "code",
   "execution_count": null,
   "metadata": {},
   "outputs": [],
   "source": [
    "array5 = np.arange(10)\n",
    "print(array5)"
   ]
  },
  {
   "cell_type": "code",
   "execution_count": null,
   "metadata": {},
   "outputs": [],
   "source": [
    "print(array5[5])"
   ]
  },
  {
   "cell_type": "code",
   "execution_count": null,
   "metadata": {},
   "outputs": [],
   "source": [
    "print(array5[9])"
   ]
  },
  {
   "cell_type": "code",
   "execution_count": null,
   "metadata": {},
   "outputs": [],
   "source": [
    "print(array5[5:8])"
   ]
  },
  {
   "cell_type": "code",
   "execution_count": null,
   "metadata": {},
   "outputs": [],
   "source": [
    "array5[5:8] = 12 #Altera dos os elementos entre 5 e 7 para 12\n",
    "print(array5)"
   ]
  },
  {
   "cell_type": "code",
   "execution_count": null,
   "metadata": {},
   "outputs": [],
   "source": [
    "arr_slice = array5[5:8] #Cria um novo ndarray a partir do subconjunto filtrado\n",
    "print(arr_slice)"
   ]
  },
  {
   "cell_type": "code",
   "execution_count": null,
   "metadata": {},
   "outputs": [],
   "source": [
    "arr_slice[1] = 12345 #Altera o conteúdo do segundo elemento\n",
    "print(array5)"
   ]
  },
  {
   "cell_type": "code",
   "execution_count": null,
   "metadata": {},
   "outputs": [],
   "source": [
    "arr_slice[:] = 64 #Altera todos os elementos de uma vez\n",
    "print(array5)"
   ]
  },
  {
   "cell_type": "code",
   "execution_count": null,
   "metadata": {},
   "outputs": [],
   "source": [
    "# Cópia de Trecho para Demonstração de Alteração em Objetos Diferentes\n",
    "arr_copia = array5[5:8].copy()\n",
    "print(arr_copia)"
   ]
  },
  {
   "cell_type": "code",
   "execution_count": null,
   "metadata": {},
   "outputs": [],
   "source": [
    "arr_copia[2] = 32\n",
    "print(array5)"
   ]
  },
  {
   "cell_type": "code",
   "execution_count": null,
   "metadata": {},
   "outputs": [],
   "source": [
    "print(arr_copia)"
   ]
  },
  {
   "cell_type": "code",
   "execution_count": null,
   "metadata": {},
   "outputs": [],
   "source": [
    "matriz_bidimensional = np.array([[1, 2, 3], [4, 5, 6], [7, 8, 9]])\n",
    "#Acessando uma linha\n",
    "print(matriz_bidimensional [2])"
   ]
  },
  {
   "cell_type": "code",
   "execution_count": null,
   "metadata": {},
   "outputs": [],
   "source": [
    "matriz_bidimensional"
   ]
  },
  {
   "cell_type": "code",
   "execution_count": null,
   "metadata": {},
   "outputs": [],
   "source": [
    "#Acessando uma coluna\n",
    "print(matriz_bidimensional [:, 1])"
   ]
  },
  {
   "cell_type": "code",
   "execution_count": null,
   "metadata": {},
   "outputs": [],
   "source": [
    "#Acessando uma célula específica\n",
    "print(matriz_bidimensional[0][2])"
   ]
  },
  {
   "cell_type": "code",
   "execution_count": null,
   "metadata": {},
   "outputs": [],
   "source": [
    "print(matriz_bidimensional[0, 2])"
   ]
  },
  {
   "cell_type": "code",
   "execution_count": null,
   "metadata": {},
   "outputs": [],
   "source": [
    "#Selecionando a 2ª linha, somente as 2 primeiras colunas\n",
    "print(matriz_bidimensional[1, :2])"
   ]
  },
  {
   "cell_type": "code",
   "execution_count": null,
   "metadata": {},
   "outputs": [],
   "source": [
    "#Selecionando a 3ª coluna, somente as 2 primeiras linhas\n",
    "print(matriz_bidimensional[:2, 2])"
   ]
  },
  {
   "cell_type": "code",
   "execution_count": null,
   "metadata": {},
   "outputs": [],
   "source": [
    "#Selecionando todo um eixo de determinada dimensão\n",
    "print(matriz_bidimensional[:, :1])"
   ]
  },
  {
   "cell_type": "code",
   "execution_count": null,
   "metadata": {},
   "outputs": [],
   "source": [
    "print(matriz_bidimensional[:, 1:2])"
   ]
  },
  {
   "cell_type": "markdown",
   "metadata": {},
   "source": [
    "# Filtragem"
   ]
  },
  {
   "cell_type": "code",
   "execution_count": null,
   "metadata": {},
   "outputs": [],
   "source": [
    "nomes = np.array(['Bob', 'Joe', 'Will', 'Bob', 'Will', 'Joe', 'Joe'])\n",
    "dados = np.random.randn(7, 4)"
   ]
  },
  {
   "cell_type": "code",
   "execution_count": null,
   "metadata": {},
   "outputs": [],
   "source": [
    "print(nomes)"
   ]
  },
  {
   "cell_type": "code",
   "execution_count": null,
   "metadata": {},
   "outputs": [],
   "source": [
    "print(dados)"
   ]
  },
  {
   "cell_type": "code",
   "execution_count": null,
   "metadata": {},
   "outputs": [],
   "source": [
    "print(nomes == 'Bob') #Filtro que será aplicado"
   ]
  },
  {
   "cell_type": "code",
   "execution_count": null,
   "metadata": {},
   "outputs": [],
   "source": [
    "print(dados[nomes == 'Bob']) #Linhas contendo os números associados ao Bob"
   ]
  },
  {
   "cell_type": "code",
   "execution_count": null,
   "metadata": {},
   "outputs": [],
   "source": [
    "#Exibindo apenas os registros de dados que não possuem Bob como nome associado\n",
    "print(nomes != 'Bob')"
   ]
  },
  {
   "cell_type": "code",
   "execution_count": null,
   "metadata": {},
   "outputs": [],
   "source": [
    "print(dados[~(nomes == 'Bob')])"
   ]
  },
  {
   "cell_type": "code",
   "execution_count": null,
   "metadata": {},
   "outputs": [],
   "source": [
    "#Criando uma variável para armazenar o resultado do filtro e então aplicá-lo como indexador\n",
    "condicao = nomes == 'Will'\n",
    "print(dados[condicao])"
   ]
  },
  {
   "cell_type": "code",
   "execution_count": null,
   "metadata": {},
   "outputs": [],
   "source": [
    "condicao = nomes == 'Bob'\n",
    "print(dados[~condicao])"
   ]
  },
  {
   "cell_type": "code",
   "execution_count": null,
   "metadata": {},
   "outputs": [],
   "source": [
    "mascara = (nomes == 'Bob') | (nomes == 'Will')\n",
    "print(mascara)"
   ]
  },
  {
   "cell_type": "code",
   "execution_count": null,
   "metadata": {},
   "outputs": [],
   "source": [
    "print(dados[mascara])"
   ]
  },
  {
   "cell_type": "code",
   "execution_count": null,
   "metadata": {},
   "outputs": [],
   "source": [
    "print(dados[dados > 0])"
   ]
  },
  {
   "cell_type": "code",
   "execution_count": null,
   "metadata": {},
   "outputs": [],
   "source": [
    "dados[dados < 0] = 0\n",
    "print(dados)"
   ]
  },
  {
   "cell_type": "markdown",
   "metadata": {},
   "source": [
    "# Funções Universais"
   ]
  },
  {
   "cell_type": "code",
   "execution_count": null,
   "metadata": {},
   "outputs": [],
   "source": [
    "matriz1 = np.random.randn(8,3)\n",
    "matriz2 = np.random.randn(8,3)"
   ]
  },
  {
   "cell_type": "code",
   "execution_count": null,
   "metadata": {},
   "outputs": [],
   "source": [
    "print(np.add(matriz1, matriz2)) #Soma elemento a elemento das matrizes"
   ]
  },
  {
   "cell_type": "code",
   "execution_count": null,
   "metadata": {},
   "outputs": [],
   "source": [
    "print(np.matmul(matriz1, matriz2.T)) #Realiza multiplicação de matrizes"
   ]
  },
  {
   "cell_type": "code",
   "execution_count": null,
   "metadata": {},
   "outputs": [],
   "source": [
    "print(np.negative(matriz1)) #Multiplica todos os elementos por -1"
   ]
  },
  {
   "cell_type": "code",
   "execution_count": null,
   "metadata": {},
   "outputs": [],
   "source": [
    "print(np.mod(matriz1, matriz2)) #Retorna o resto da divisão de elemento por elemento"
   ]
  },
  {
   "cell_type": "code",
   "execution_count": null,
   "metadata": {},
   "outputs": [],
   "source": [
    "print(np.absolute(matriz1)) #Retorna o absoluto de cada elemento"
   ]
  },
  {
   "cell_type": "code",
   "execution_count": null,
   "metadata": {},
   "outputs": [],
   "source": [
    "matriz1"
   ]
  },
  {
   "cell_type": "code",
   "execution_count": null,
   "metadata": {},
   "outputs": [],
   "source": [
    "matriz1.T"
   ]
  },
  {
   "cell_type": "code",
   "execution_count": null,
   "metadata": {},
   "outputs": [],
   "source": [
    "print(np.rint(matriz1)) #Arredonda cada elemento para o inteiro mais próximo"
   ]
  },
  {
   "cell_type": "code",
   "execution_count": null,
   "metadata": {},
   "outputs": [],
   "source": [
    "# Algumas Funções Trigonométricas\n",
    "print(np.sin(matriz1)) #Calcula o seno de cada elemento\n",
    "print(np.cos(matriz1)) #Calcula o cosseno de cada elemento\n",
    "print(np.tan(matriz1)) #Calcula a tangente de cada elemento"
   ]
  },
  {
   "cell_type": "code",
   "execution_count": null,
   "metadata": {},
   "outputs": [],
   "source": [
    "# Funções de Comparação\n",
    "#Retorna True nos elementos correspondente a matriz1 > matriz2\n",
    "print(np.greater(matriz1, matriz2))\n",
    "#Retorna True nos elementos correspondente a matriz1 >= matriz2\n",
    "print(np.greater_equal(matriz1, matriz2))\n",
    "#Retorna True nos elementos correspondente a matriz1 < matriz2\n",
    "print(np.less(matriz1, matriz2))\n",
    "#Retorna True nos elementos correspondente a matriz1 <= matriz2\n",
    "print(np.less_equal(matriz1, matriz2))\n",
    "#Retorna True nos elementos correspondente a matriz1 != matriz2\n",
    "print(np.not_equal(matriz1, matriz2))\n",
    "#Retorna True nos elementos correspondente a matriz1 == matriz2\n",
    "print(np.equal(matriz1, matriz2))"
   ]
  },
  {
   "cell_type": "markdown",
   "metadata": {},
   "source": [
    "# Métodos Estatísticos"
   ]
  },
  {
   "cell_type": "code",
   "execution_count": null,
   "metadata": {},
   "outputs": [],
   "source": [
    "renda_ingressantes = np.array([2.90, 2.90, 2.95, 2.95, 3.10, 3.10, 3.15, 3.20,\n",
    "3.20, 3.25, 3.30, 3.40, 3.45, 3.45, 3.50, 3.65, 3.65, 3.80, 3.90, 3.90, 4.00,\n",
    "5.00, 5.20, 5.50, 6.40])"
   ]
  },
  {
   "cell_type": "code",
   "execution_count": null,
   "metadata": {},
   "outputs": [],
   "source": [
    "#Estimativas de Localização\n",
    "print(np.mean(renda_ingressantes)) #Média\n",
    "print(np.median(renda_ingressantes)) #Mediana"
   ]
  },
  {
   "cell_type": "code",
   "execution_count": null,
   "metadata": {},
   "outputs": [],
   "source": [
    "#Estimativas de Variabilidade\n",
    "print(np.var(renda_ingressantes)) #Variância\n",
    "print(np.std(renda_ingressantes)) #Desvio-Padrão"
   ]
  },
  {
   "cell_type": "code",
   "execution_count": null,
   "metadata": {},
   "outputs": [],
   "source": [
    "#Distribuição de Dados\n",
    "print(np.percentile(renda_ingressantes, 25)) #Retorna o percentil indicado pelo número após a vírgula\n",
    "print(np.quantile(renda_ingressantes, 0.25)) #Retorna o quantil indicado pelo número após a vírgula\n",
    "print(np.quantile(renda_ingressantes, 0.50)) #Retorna o quantil indicado pelo número após a vírgula\n",
    "print(np.quantile(renda_ingressantes, 0.75)) #Retorna o quantil indicado pelo número após a vírgula"
   ]
  },
  {
   "cell_type": "code",
   "execution_count": null,
   "metadata": {},
   "outputs": [],
   "source": [
    "X = np.array([1, 2, 3])\n",
    "Y = np.array([0, 1, 0.5])\n",
    "#Correlação\n",
    "print(np.corrcoef(X, Y)) #Calcula o coeficiente de correlação de Pearson\n",
    "print(np.correlate(X, Y)) #Calcula a correlação dos atributos"
   ]
  },
  {
   "cell_type": "markdown",
   "metadata": {},
   "source": [
    "# Ordenação e Unicidade de Elementos"
   ]
  },
  {
   "cell_type": "code",
   "execution_count": null,
   "metadata": {},
   "outputs": [],
   "source": [
    "array7 = np.array([2.52, 3.42, 1.85, 2.95, 3.95, 3.78, 3.17, 3.96, 2.97, 2.98,\n",
    "3.35, 4.23, 3.42, 4.60, 5.24, 3.64, 4.54, 4.81, 1.77, 1.51, 3.08, 2.00])\n",
    "#Colocando em ordem\n",
    "print(np.sort(array7))"
   ]
  },
  {
   "cell_type": "code",
   "execution_count": null,
   "metadata": {},
   "outputs": [],
   "source": [
    "# indicando se a ordenação será nas colunas ou nas linhas\n",
    "matriz = np.array([[1, 4], [3, 1]])\n",
    "print(matriz)"
   ]
  },
  {
   "cell_type": "code",
   "execution_count": null,
   "metadata": {},
   "outputs": [],
   "source": [
    "print(np.sort(matriz, axis = 1)) #Ordena as colunas"
   ]
  },
  {
   "cell_type": "code",
   "execution_count": null,
   "metadata": {},
   "outputs": [],
   "source": [
    "print(np.sort(matriz, axis = 0)) #Ordena as linhas"
   ]
  },
  {
   "cell_type": "code",
   "execution_count": null,
   "metadata": {},
   "outputs": [],
   "source": [
    "# unicidade permite recuperar uma única ocorrência dos dados\n",
    "nomes = np.array(['Bob', 'Joe', 'Will', 'Bob', 'Will', 'Joe', 'Joe'])\n",
    "print(np.unique(nomes))"
   ]
  },
  {
   "cell_type": "code",
   "execution_count": null,
   "metadata": {},
   "outputs": [],
   "source": [
    "numeros = np.array([3, 3, 2, 2, 1, 1, 1, 4, 4])\n",
    "print(np.unique(numeros))"
   ]
  },
  {
   "cell_type": "code",
   "execution_count": null,
   "metadata": {},
   "outputs": [],
   "source": [
    "my_arr = np.arange(1000000)\n",
    "my_list = list(range(1000000))"
   ]
  },
  {
   "cell_type": "code",
   "execution_count": null,
   "metadata": {},
   "outputs": [],
   "source": [
    "%time for _ in range(10): my_arr2 = my_arr * 2"
   ]
  },
  {
   "cell_type": "code",
   "execution_count": null,
   "metadata": {},
   "outputs": [],
   "source": [
    "%time for _ in range(10): my_list2 = [x* 2 for x in my_list]"
   ]
  }
 ],
 "metadata": {
  "kernelspec": {
   "display_name": "Python 3",
   "language": "python",
   "name": "python3"
  },
  "language_info": {
   "codemirror_mode": {
    "name": "ipython",
    "version": 3
   },
   "file_extension": ".py",
   "mimetype": "text/x-python",
   "name": "python",
   "nbconvert_exporter": "python",
   "pygments_lexer": "ipython3",
   "version": "3.7.0"
  }
 },
 "nbformat": 4,
 "nbformat_minor": 2
}
